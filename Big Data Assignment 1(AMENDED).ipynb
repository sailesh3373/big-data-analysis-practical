{
 "cells": [
  {
   "cell_type": "code",
   "execution_count": 31,
   "metadata": {},
   "outputs": [],
   "source": [
    "#---------------------------------------------------------------\n",
    "# @author Gayathri Ravi Nath C0818959\n",
    "# @author Parwinderjit Kaur C0813818\n",
    "# @author Sailesh Paudel C0813856\n",
    "# @author Vedank Shaileshkumar Solanki C0820175\n",
    "\n",
    "# Dataset File downloaded from https://archive.ics.uci.edu/ml/datasets/Real+estate+valuation+data+set\n",
    "# Dataset Page Title Real estate valuation data set Data Set\n",
    "# Data collected from Sindian Dist., New Taipei City, Taiwan\n",
    "# Dataset Author and Owner Prof. I-Cheng Yeh \n",
    "# Institutions: Department of Civil Engineering, Tamkang University, Taiwan.\n",
    "# Email: 140910 '@' mail.tku.edu.tw\n",
    "# TEL: 886-2-26215656 ext. 3181\n",
    "\n",
    "# The inputs are as follows\n",
    "# X1=the transaction date \n",
    "# X2=the house age (unit: year)\n",
    "# X3=the distance to the nearest MRT station (unit: meter)\n",
    "# X4=the number of convenience stores in the living circle on foot (integer)\n",
    "# X5=the geographic coordinate, latitude. (unit: degree)\n",
    "# X6=the geographic coordinate, longitude. (unit: degree)\n",
    "\n",
    "# The output is as follow\n",
    "# Y= house price of unit area (10000 New Taiwan Dollar/Ping, where Ping is a local unit, 1 Ping = 3.3 meter squared) \n",
    "#---------------------------------------------------------------"
   ]
  },
  {
   "cell_type": "code",
   "execution_count": 32,
   "metadata": {},
   "outputs": [],
   "source": [
    "# Importing the modules\n",
    "# Pandas library for data manipulation and analysis\n",
    "# Numpy library for some standard mathematical functions\n",
    "# Matplotlib library to visualize the data in the form of different plot\n",
    "# Seaburn library for visualizing statistical graphics and work on top of Matplotlib\n",
    "import pandas as pd\n",
    "import numpy as np\n",
    "import matplotlib.pyplot as plt\n",
    "%matplotlib inline\n",
    "import seaborn as sns"
   ]
  },
  {
   "cell_type": "code",
   "execution_count": 33,
   "metadata": {},
   "outputs": [],
   "source": [
    "# Loading the data from the dataset file into Pandas DataFrame\n",
    "df = pd.read_excel('https://archive.ics.uci.edu/ml/machine-learning-databases/00477/Real%20estate%20valuation%20data%20set.xlsx')"
   ]
  },
  {
   "cell_type": "code",
   "execution_count": 34,
   "metadata": {},
   "outputs": [
    {
     "data": {
      "text/html": [
       "<div>\n",
       "<style scoped>\n",
       "    .dataframe tbody tr th:only-of-type {\n",
       "        vertical-align: middle;\n",
       "    }\n",
       "\n",
       "    .dataframe tbody tr th {\n",
       "        vertical-align: top;\n",
       "    }\n",
       "\n",
       "    .dataframe thead th {\n",
       "        text-align: right;\n",
       "    }\n",
       "</style>\n",
       "<table border=\"1\" class=\"dataframe\">\n",
       "  <thead>\n",
       "    <tr style=\"text-align: right;\">\n",
       "      <th></th>\n",
       "      <th>No</th>\n",
       "      <th>X1 transaction date</th>\n",
       "      <th>X2 house age</th>\n",
       "      <th>X3 distance to the nearest MRT station</th>\n",
       "      <th>X4 number of convenience stores</th>\n",
       "      <th>X5 latitude</th>\n",
       "      <th>X6 longitude</th>\n",
       "      <th>Y house price of unit area</th>\n",
       "    </tr>\n",
       "  </thead>\n",
       "  <tbody>\n",
       "    <tr>\n",
       "      <th>0</th>\n",
       "      <td>1</td>\n",
       "      <td>2012.916667</td>\n",
       "      <td>32.0</td>\n",
       "      <td>84.87882</td>\n",
       "      <td>10</td>\n",
       "      <td>24.98298</td>\n",
       "      <td>121.54024</td>\n",
       "      <td>37.9</td>\n",
       "    </tr>\n",
       "    <tr>\n",
       "      <th>1</th>\n",
       "      <td>2</td>\n",
       "      <td>2012.916667</td>\n",
       "      <td>19.5</td>\n",
       "      <td>306.59470</td>\n",
       "      <td>9</td>\n",
       "      <td>24.98034</td>\n",
       "      <td>121.53951</td>\n",
       "      <td>42.2</td>\n",
       "    </tr>\n",
       "    <tr>\n",
       "      <th>2</th>\n",
       "      <td>3</td>\n",
       "      <td>2013.583333</td>\n",
       "      <td>13.3</td>\n",
       "      <td>561.98450</td>\n",
       "      <td>5</td>\n",
       "      <td>24.98746</td>\n",
       "      <td>121.54391</td>\n",
       "      <td>47.3</td>\n",
       "    </tr>\n",
       "    <tr>\n",
       "      <th>3</th>\n",
       "      <td>4</td>\n",
       "      <td>2013.500000</td>\n",
       "      <td>13.3</td>\n",
       "      <td>561.98450</td>\n",
       "      <td>5</td>\n",
       "      <td>24.98746</td>\n",
       "      <td>121.54391</td>\n",
       "      <td>54.8</td>\n",
       "    </tr>\n",
       "    <tr>\n",
       "      <th>4</th>\n",
       "      <td>5</td>\n",
       "      <td>2012.833333</td>\n",
       "      <td>5.0</td>\n",
       "      <td>390.56840</td>\n",
       "      <td>5</td>\n",
       "      <td>24.97937</td>\n",
       "      <td>121.54245</td>\n",
       "      <td>43.1</td>\n",
       "    </tr>\n",
       "  </tbody>\n",
       "</table>\n",
       "</div>"
      ],
      "text/plain": [
       "   No  X1 transaction date  X2 house age  \\\n",
       "0   1          2012.916667          32.0   \n",
       "1   2          2012.916667          19.5   \n",
       "2   3          2013.583333          13.3   \n",
       "3   4          2013.500000          13.3   \n",
       "4   5          2012.833333           5.0   \n",
       "\n",
       "   X3 distance to the nearest MRT station  X4 number of convenience stores  \\\n",
       "0                                84.87882                               10   \n",
       "1                               306.59470                                9   \n",
       "2                               561.98450                                5   \n",
       "3                               561.98450                                5   \n",
       "4                               390.56840                                5   \n",
       "\n",
       "   X5 latitude  X6 longitude  Y house price of unit area  \n",
       "0     24.98298     121.54024                        37.9  \n",
       "1     24.98034     121.53951                        42.2  \n",
       "2     24.98746     121.54391                        47.3  \n",
       "3     24.98746     121.54391                        54.8  \n",
       "4     24.97937     121.54245                        43.1  "
      ]
     },
     "execution_count": 34,
     "metadata": {},
     "output_type": "execute_result"
    }
   ],
   "source": [
    "# Displaying Top 5 rows of data from dataframe\n",
    "df.head()"
   ]
  },
  {
   "cell_type": "code",
   "execution_count": 35,
   "metadata": {},
   "outputs": [
    {
     "data": {
      "text/plain": [
       "Index(['No', 'X1 transaction date', 'X2 house age',\n",
       "       'X3 distance to the nearest MRT station',\n",
       "       'X4 number of convenience stores', 'X5 latitude', 'X6 longitude',\n",
       "       'Y house price of unit area'],\n",
       "      dtype='object')"
      ]
     },
     "execution_count": 35,
     "metadata": {},
     "output_type": "execute_result"
    }
   ],
   "source": [
    "# Displaying the column names of the dataframe object\n",
    "df.columns"
   ]
  },
  {
   "cell_type": "code",
   "execution_count": 36,
   "metadata": {},
   "outputs": [
    {
     "data": {
      "text/plain": [
       "(414, 8)"
      ]
     },
     "execution_count": 36,
     "metadata": {},
     "output_type": "execute_result"
    }
   ],
   "source": [
    "# Displaying total size of the dataframe\n",
    "df.shape"
   ]
  },
  {
   "cell_type": "code",
   "execution_count": 37,
   "metadata": {},
   "outputs": [
    {
     "data": {
      "text/plain": [
       "No                                          int64\n",
       "X1 transaction date                       float64\n",
       "X2 house age                              float64\n",
       "X3 distance to the nearest MRT station    float64\n",
       "X4 number of convenience stores             int64\n",
       "X5 latitude                               float64\n",
       "X6 longitude                              float64\n",
       "Y house price of unit area                float64\n",
       "dtype: object"
      ]
     },
     "execution_count": 37,
     "metadata": {},
     "output_type": "execute_result"
    }
   ],
   "source": [
    "# Displaying and understanding the datatypes of each column\n",
    "df.dtypes"
   ]
  },
  {
   "cell_type": "code",
   "execution_count": 38,
   "metadata": {},
   "outputs": [
    {
     "data": {
      "text/plain": [
       "No                                        0\n",
       "X1 transaction date                       0\n",
       "X2 house age                              0\n",
       "X3 distance to the nearest MRT station    0\n",
       "X4 number of convenience stores           0\n",
       "X5 latitude                               0\n",
       "X6 longitude                              0\n",
       "Y house price of unit area                0\n",
       "dtype: int64"
      ]
     },
     "execution_count": 38,
     "metadata": {},
     "output_type": "execute_result"
    }
   ],
   "source": [
    "# Checking whether the rows have Null value or not and displaying the total sum of Null values in each column\n",
    "df.isnull().sum()"
   ]
  },
  {
   "cell_type": "code",
   "execution_count": 39,
   "metadata": {},
   "outputs": [
    {
     "data": {
      "text/html": [
       "<div>\n",
       "<style scoped>\n",
       "    .dataframe tbody tr th:only-of-type {\n",
       "        vertical-align: middle;\n",
       "    }\n",
       "\n",
       "    .dataframe tbody tr th {\n",
       "        vertical-align: top;\n",
       "    }\n",
       "\n",
       "    .dataframe thead th {\n",
       "        text-align: right;\n",
       "    }\n",
       "</style>\n",
       "<table border=\"1\" class=\"dataframe\">\n",
       "  <thead>\n",
       "    <tr style=\"text-align: right;\">\n",
       "      <th></th>\n",
       "      <th>No</th>\n",
       "      <th>X1 transaction date</th>\n",
       "      <th>X2 house age</th>\n",
       "      <th>X3 distance to the nearest MRT station</th>\n",
       "      <th>X4 number of convenience stores</th>\n",
       "      <th>X5 latitude</th>\n",
       "      <th>X6 longitude</th>\n",
       "      <th>Y house price of unit area</th>\n",
       "    </tr>\n",
       "  </thead>\n",
       "  <tbody>\n",
       "    <tr>\n",
       "      <th>count</th>\n",
       "      <td>414.000000</td>\n",
       "      <td>414.000000</td>\n",
       "      <td>414.000000</td>\n",
       "      <td>414.000000</td>\n",
       "      <td>414.000000</td>\n",
       "      <td>414.000000</td>\n",
       "      <td>414.000000</td>\n",
       "      <td>414.000000</td>\n",
       "    </tr>\n",
       "    <tr>\n",
       "      <th>mean</th>\n",
       "      <td>207.500000</td>\n",
       "      <td>2013.148953</td>\n",
       "      <td>17.712560</td>\n",
       "      <td>1083.885689</td>\n",
       "      <td>4.094203</td>\n",
       "      <td>24.969030</td>\n",
       "      <td>121.533361</td>\n",
       "      <td>37.980193</td>\n",
       "    </tr>\n",
       "    <tr>\n",
       "      <th>std</th>\n",
       "      <td>119.655756</td>\n",
       "      <td>0.281995</td>\n",
       "      <td>11.392485</td>\n",
       "      <td>1262.109595</td>\n",
       "      <td>2.945562</td>\n",
       "      <td>0.012410</td>\n",
       "      <td>0.015347</td>\n",
       "      <td>13.606488</td>\n",
       "    </tr>\n",
       "    <tr>\n",
       "      <th>min</th>\n",
       "      <td>1.000000</td>\n",
       "      <td>2012.666667</td>\n",
       "      <td>0.000000</td>\n",
       "      <td>23.382840</td>\n",
       "      <td>0.000000</td>\n",
       "      <td>24.932070</td>\n",
       "      <td>121.473530</td>\n",
       "      <td>7.600000</td>\n",
       "    </tr>\n",
       "    <tr>\n",
       "      <th>25%</th>\n",
       "      <td>104.250000</td>\n",
       "      <td>2012.916667</td>\n",
       "      <td>9.025000</td>\n",
       "      <td>289.324800</td>\n",
       "      <td>1.000000</td>\n",
       "      <td>24.963000</td>\n",
       "      <td>121.528085</td>\n",
       "      <td>27.700000</td>\n",
       "    </tr>\n",
       "    <tr>\n",
       "      <th>50%</th>\n",
       "      <td>207.500000</td>\n",
       "      <td>2013.166667</td>\n",
       "      <td>16.100000</td>\n",
       "      <td>492.231300</td>\n",
       "      <td>4.000000</td>\n",
       "      <td>24.971100</td>\n",
       "      <td>121.538630</td>\n",
       "      <td>38.450000</td>\n",
       "    </tr>\n",
       "    <tr>\n",
       "      <th>75%</th>\n",
       "      <td>310.750000</td>\n",
       "      <td>2013.416667</td>\n",
       "      <td>28.150000</td>\n",
       "      <td>1454.279000</td>\n",
       "      <td>6.000000</td>\n",
       "      <td>24.977455</td>\n",
       "      <td>121.543305</td>\n",
       "      <td>46.600000</td>\n",
       "    </tr>\n",
       "    <tr>\n",
       "      <th>max</th>\n",
       "      <td>414.000000</td>\n",
       "      <td>2013.583333</td>\n",
       "      <td>43.800000</td>\n",
       "      <td>6488.021000</td>\n",
       "      <td>10.000000</td>\n",
       "      <td>25.014590</td>\n",
       "      <td>121.566270</td>\n",
       "      <td>117.500000</td>\n",
       "    </tr>\n",
       "  </tbody>\n",
       "</table>\n",
       "</div>"
      ],
      "text/plain": [
       "               No  X1 transaction date  X2 house age  \\\n",
       "count  414.000000           414.000000    414.000000   \n",
       "mean   207.500000          2013.148953     17.712560   \n",
       "std    119.655756             0.281995     11.392485   \n",
       "min      1.000000          2012.666667      0.000000   \n",
       "25%    104.250000          2012.916667      9.025000   \n",
       "50%    207.500000          2013.166667     16.100000   \n",
       "75%    310.750000          2013.416667     28.150000   \n",
       "max    414.000000          2013.583333     43.800000   \n",
       "\n",
       "       X3 distance to the nearest MRT station  \\\n",
       "count                              414.000000   \n",
       "mean                              1083.885689   \n",
       "std                               1262.109595   \n",
       "min                                 23.382840   \n",
       "25%                                289.324800   \n",
       "50%                                492.231300   \n",
       "75%                               1454.279000   \n",
       "max                               6488.021000   \n",
       "\n",
       "       X4 number of convenience stores  X5 latitude  X6 longitude  \\\n",
       "count                       414.000000   414.000000    414.000000   \n",
       "mean                          4.094203    24.969030    121.533361   \n",
       "std                           2.945562     0.012410      0.015347   \n",
       "min                           0.000000    24.932070    121.473530   \n",
       "25%                           1.000000    24.963000    121.528085   \n",
       "50%                           4.000000    24.971100    121.538630   \n",
       "75%                           6.000000    24.977455    121.543305   \n",
       "max                          10.000000    25.014590    121.566270   \n",
       "\n",
       "       Y house price of unit area  \n",
       "count                  414.000000  \n",
       "mean                    37.980193  \n",
       "std                     13.606488  \n",
       "min                      7.600000  \n",
       "25%                     27.700000  \n",
       "50%                     38.450000  \n",
       "75%                     46.600000  \n",
       "max                    117.500000  "
      ]
     },
     "execution_count": 39,
     "metadata": {},
     "output_type": "execute_result"
    }
   ],
   "source": [
    "# Basic statistical calculations of the data\n",
    "df.describe()"
   ]
  },
  {
   "cell_type": "code",
   "execution_count": 40,
   "metadata": {},
   "outputs": [],
   "source": [
    "# Dropping of irrelevent table from the dataframe\n",
    "df.drop(['No'], axis = 1, inplace = True)"
   ]
  },
  {
   "cell_type": "code",
   "execution_count": 41,
   "metadata": {},
   "outputs": [],
   "source": [
    "# The data in 'Y house price of unit area' column is given in per unit area of \n",
    "# the measurement Ping where 1 Ping = 3.3 square meter\n",
    "df['House price $/M2'] = df['Y house price of unit area'] / 3.3"
   ]
  },
  {
   "cell_type": "code",
   "execution_count": 42,
   "metadata": {},
   "outputs": [],
   "source": [
    "df2 = df[df['House price $/M2'] < 30]"
   ]
  },
  {
   "cell_type": "code",
   "execution_count": 43,
   "metadata": {},
   "outputs": [
    {
     "data": {
      "text/html": [
       "<div>\n",
       "<style scoped>\n",
       "    .dataframe tbody tr th:only-of-type {\n",
       "        vertical-align: middle;\n",
       "    }\n",
       "\n",
       "    .dataframe tbody tr th {\n",
       "        vertical-align: top;\n",
       "    }\n",
       "\n",
       "    .dataframe thead th {\n",
       "        text-align: right;\n",
       "    }\n",
       "</style>\n",
       "<table border=\"1\" class=\"dataframe\">\n",
       "  <thead>\n",
       "    <tr style=\"text-align: right;\">\n",
       "      <th></th>\n",
       "      <th>X1 transaction date</th>\n",
       "      <th>X2 house age</th>\n",
       "      <th>X3 distance to the nearest MRT station</th>\n",
       "      <th>X4 number of convenience stores</th>\n",
       "      <th>X5 latitude</th>\n",
       "      <th>X6 longitude</th>\n",
       "      <th>Y house price of unit area</th>\n",
       "      <th>House price $/M2</th>\n",
       "    </tr>\n",
       "  </thead>\n",
       "  <tbody>\n",
       "    <tr>\n",
       "      <th>X1 transaction date</th>\n",
       "      <td>1.000000</td>\n",
       "      <td>0.018523</td>\n",
       "      <td>0.061990</td>\n",
       "      <td>0.011232</td>\n",
       "      <td>0.034330</td>\n",
       "      <td>-0.040788</td>\n",
       "      <td>0.081757</td>\n",
       "      <td>0.081757</td>\n",
       "    </tr>\n",
       "    <tr>\n",
       "      <th>X2 house age</th>\n",
       "      <td>0.018523</td>\n",
       "      <td>1.000000</td>\n",
       "      <td>0.024676</td>\n",
       "      <td>0.048131</td>\n",
       "      <td>0.055119</td>\n",
       "      <td>-0.048822</td>\n",
       "      <td>-0.210985</td>\n",
       "      <td>-0.210985</td>\n",
       "    </tr>\n",
       "    <tr>\n",
       "      <th>X3 distance to the nearest MRT station</th>\n",
       "      <td>0.061990</td>\n",
       "      <td>0.024676</td>\n",
       "      <td>1.000000</td>\n",
       "      <td>-0.605328</td>\n",
       "      <td>-0.590805</td>\n",
       "      <td>-0.807079</td>\n",
       "      <td>-0.694009</td>\n",
       "      <td>-0.694009</td>\n",
       "    </tr>\n",
       "    <tr>\n",
       "      <th>X4 number of convenience stores</th>\n",
       "      <td>0.011232</td>\n",
       "      <td>0.048131</td>\n",
       "      <td>-0.605328</td>\n",
       "      <td>1.000000</td>\n",
       "      <td>0.445994</td>\n",
       "      <td>0.449239</td>\n",
       "      <td>0.612635</td>\n",
       "      <td>0.612635</td>\n",
       "    </tr>\n",
       "    <tr>\n",
       "      <th>X5 latitude</th>\n",
       "      <td>0.034330</td>\n",
       "      <td>0.055119</td>\n",
       "      <td>-0.590805</td>\n",
       "      <td>0.445994</td>\n",
       "      <td>1.000000</td>\n",
       "      <td>0.413249</td>\n",
       "      <td>0.563954</td>\n",
       "      <td>0.563954</td>\n",
       "    </tr>\n",
       "    <tr>\n",
       "      <th>X6 longitude</th>\n",
       "      <td>-0.040788</td>\n",
       "      <td>-0.048822</td>\n",
       "      <td>-0.807079</td>\n",
       "      <td>0.449239</td>\n",
       "      <td>0.413249</td>\n",
       "      <td>1.000000</td>\n",
       "      <td>0.549250</td>\n",
       "      <td>0.549250</td>\n",
       "    </tr>\n",
       "    <tr>\n",
       "      <th>Y house price of unit area</th>\n",
       "      <td>0.081757</td>\n",
       "      <td>-0.210985</td>\n",
       "      <td>-0.694009</td>\n",
       "      <td>0.612635</td>\n",
       "      <td>0.563954</td>\n",
       "      <td>0.549250</td>\n",
       "      <td>1.000000</td>\n",
       "      <td>1.000000</td>\n",
       "    </tr>\n",
       "    <tr>\n",
       "      <th>House price $/M2</th>\n",
       "      <td>0.081757</td>\n",
       "      <td>-0.210985</td>\n",
       "      <td>-0.694009</td>\n",
       "      <td>0.612635</td>\n",
       "      <td>0.563954</td>\n",
       "      <td>0.549250</td>\n",
       "      <td>1.000000</td>\n",
       "      <td>1.000000</td>\n",
       "    </tr>\n",
       "  </tbody>\n",
       "</table>\n",
       "</div>"
      ],
      "text/plain": [
       "                                        X1 transaction date  X2 house age  \\\n",
       "X1 transaction date                                1.000000      0.018523   \n",
       "X2 house age                                       0.018523      1.000000   \n",
       "X3 distance to the nearest MRT station             0.061990      0.024676   \n",
       "X4 number of convenience stores                    0.011232      0.048131   \n",
       "X5 latitude                                        0.034330      0.055119   \n",
       "X6 longitude                                      -0.040788     -0.048822   \n",
       "Y house price of unit area                         0.081757     -0.210985   \n",
       "House price $/M2                                   0.081757     -0.210985   \n",
       "\n",
       "                                        X3 distance to the nearest MRT station  \\\n",
       "X1 transaction date                                                   0.061990   \n",
       "X2 house age                                                          0.024676   \n",
       "X3 distance to the nearest MRT station                                1.000000   \n",
       "X4 number of convenience stores                                      -0.605328   \n",
       "X5 latitude                                                          -0.590805   \n",
       "X6 longitude                                                         -0.807079   \n",
       "Y house price of unit area                                           -0.694009   \n",
       "House price $/M2                                                     -0.694009   \n",
       "\n",
       "                                        X4 number of convenience stores  \\\n",
       "X1 transaction date                                            0.011232   \n",
       "X2 house age                                                   0.048131   \n",
       "X3 distance to the nearest MRT station                        -0.605328   \n",
       "X4 number of convenience stores                                1.000000   \n",
       "X5 latitude                                                    0.445994   \n",
       "X6 longitude                                                   0.449239   \n",
       "Y house price of unit area                                     0.612635   \n",
       "House price $/M2                                               0.612635   \n",
       "\n",
       "                                        X5 latitude  X6 longitude  \\\n",
       "X1 transaction date                        0.034330     -0.040788   \n",
       "X2 house age                               0.055119     -0.048822   \n",
       "X3 distance to the nearest MRT station    -0.590805     -0.807079   \n",
       "X4 number of convenience stores            0.445994      0.449239   \n",
       "X5 latitude                                1.000000      0.413249   \n",
       "X6 longitude                               0.413249      1.000000   \n",
       "Y house price of unit area                 0.563954      0.549250   \n",
       "House price $/M2                           0.563954      0.549250   \n",
       "\n",
       "                                        Y house price of unit area  \\\n",
       "X1 transaction date                                       0.081757   \n",
       "X2 house age                                             -0.210985   \n",
       "X3 distance to the nearest MRT station                   -0.694009   \n",
       "X4 number of convenience stores                           0.612635   \n",
       "X5 latitude                                               0.563954   \n",
       "X6 longitude                                              0.549250   \n",
       "Y house price of unit area                                1.000000   \n",
       "House price $/M2                                          1.000000   \n",
       "\n",
       "                                        House price $/M2  \n",
       "X1 transaction date                             0.081757  \n",
       "X2 house age                                   -0.210985  \n",
       "X3 distance to the nearest MRT station         -0.694009  \n",
       "X4 number of convenience stores                 0.612635  \n",
       "X5 latitude                                     0.563954  \n",
       "X6 longitude                                    0.549250  \n",
       "Y house price of unit area                      1.000000  \n",
       "House price $/M2                                1.000000  "
      ]
     },
     "execution_count": 43,
     "metadata": {},
     "output_type": "execute_result"
    }
   ],
   "source": [
    "# Tabular visualiazation of correlation between different Variables\n",
    "df2.corr()"
   ]
  },
  {
   "cell_type": "code",
   "execution_count": 46,
   "metadata": {},
   "outputs": [
    {
     "data": {
      "text/html": [
       "<div>\n",
       "<style scoped>\n",
       "    .dataframe tbody tr th:only-of-type {\n",
       "        vertical-align: middle;\n",
       "    }\n",
       "\n",
       "    .dataframe tbody tr th {\n",
       "        vertical-align: top;\n",
       "    }\n",
       "\n",
       "    .dataframe thead th {\n",
       "        text-align: right;\n",
       "    }\n",
       "</style>\n",
       "<table border=\"1\" class=\"dataframe\">\n",
       "  <thead>\n",
       "    <tr style=\"text-align: right;\">\n",
       "      <th></th>\n",
       "      <th>X1 transaction date</th>\n",
       "      <th>X2 house age</th>\n",
       "      <th>X3 distance to the nearest MRT station</th>\n",
       "      <th>X4 number of convenience stores</th>\n",
       "      <th>X5 latitude</th>\n",
       "      <th>X6 longitude</th>\n",
       "      <th>Y house price of unit area</th>\n",
       "      <th>House price $/M2</th>\n",
       "    </tr>\n",
       "  </thead>\n",
       "  <tbody>\n",
       "    <tr>\n",
       "      <th>0</th>\n",
       "      <td>2012</td>\n",
       "      <td>32.0</td>\n",
       "      <td>84.87882</td>\n",
       "      <td>10</td>\n",
       "      <td>24.98298</td>\n",
       "      <td>121.54024</td>\n",
       "      <td>37.9</td>\n",
       "      <td>11.484848</td>\n",
       "    </tr>\n",
       "    <tr>\n",
       "      <th>1</th>\n",
       "      <td>2012</td>\n",
       "      <td>19.5</td>\n",
       "      <td>306.59470</td>\n",
       "      <td>9</td>\n",
       "      <td>24.98034</td>\n",
       "      <td>121.53951</td>\n",
       "      <td>42.2</td>\n",
       "      <td>12.787879</td>\n",
       "    </tr>\n",
       "    <tr>\n",
       "      <th>2</th>\n",
       "      <td>2013</td>\n",
       "      <td>13.3</td>\n",
       "      <td>561.98450</td>\n",
       "      <td>5</td>\n",
       "      <td>24.98746</td>\n",
       "      <td>121.54391</td>\n",
       "      <td>47.3</td>\n",
       "      <td>14.333333</td>\n",
       "    </tr>\n",
       "    <tr>\n",
       "      <th>3</th>\n",
       "      <td>2013</td>\n",
       "      <td>13.3</td>\n",
       "      <td>561.98450</td>\n",
       "      <td>5</td>\n",
       "      <td>24.98746</td>\n",
       "      <td>121.54391</td>\n",
       "      <td>54.8</td>\n",
       "      <td>16.606061</td>\n",
       "    </tr>\n",
       "    <tr>\n",
       "      <th>4</th>\n",
       "      <td>2012</td>\n",
       "      <td>5.0</td>\n",
       "      <td>390.56840</td>\n",
       "      <td>5</td>\n",
       "      <td>24.97937</td>\n",
       "      <td>121.54245</td>\n",
       "      <td>43.1</td>\n",
       "      <td>13.060606</td>\n",
       "    </tr>\n",
       "    <tr>\n",
       "      <th>...</th>\n",
       "      <td>...</td>\n",
       "      <td>...</td>\n",
       "      <td>...</td>\n",
       "      <td>...</td>\n",
       "      <td>...</td>\n",
       "      <td>...</td>\n",
       "      <td>...</td>\n",
       "      <td>...</td>\n",
       "    </tr>\n",
       "    <tr>\n",
       "      <th>409</th>\n",
       "      <td>2013</td>\n",
       "      <td>13.7</td>\n",
       "      <td>4082.01500</td>\n",
       "      <td>0</td>\n",
       "      <td>24.94155</td>\n",
       "      <td>121.50381</td>\n",
       "      <td>15.4</td>\n",
       "      <td>4.666667</td>\n",
       "    </tr>\n",
       "    <tr>\n",
       "      <th>410</th>\n",
       "      <td>2012</td>\n",
       "      <td>5.6</td>\n",
       "      <td>90.45606</td>\n",
       "      <td>9</td>\n",
       "      <td>24.97433</td>\n",
       "      <td>121.54310</td>\n",
       "      <td>50.0</td>\n",
       "      <td>15.151515</td>\n",
       "    </tr>\n",
       "    <tr>\n",
       "      <th>411</th>\n",
       "      <td>2013</td>\n",
       "      <td>18.8</td>\n",
       "      <td>390.96960</td>\n",
       "      <td>7</td>\n",
       "      <td>24.97923</td>\n",
       "      <td>121.53986</td>\n",
       "      <td>40.6</td>\n",
       "      <td>12.303030</td>\n",
       "    </tr>\n",
       "    <tr>\n",
       "      <th>412</th>\n",
       "      <td>2013</td>\n",
       "      <td>8.1</td>\n",
       "      <td>104.81010</td>\n",
       "      <td>5</td>\n",
       "      <td>24.96674</td>\n",
       "      <td>121.54067</td>\n",
       "      <td>52.5</td>\n",
       "      <td>15.909091</td>\n",
       "    </tr>\n",
       "    <tr>\n",
       "      <th>413</th>\n",
       "      <td>2013</td>\n",
       "      <td>6.5</td>\n",
       "      <td>90.45606</td>\n",
       "      <td>9</td>\n",
       "      <td>24.97433</td>\n",
       "      <td>121.54310</td>\n",
       "      <td>63.9</td>\n",
       "      <td>19.363636</td>\n",
       "    </tr>\n",
       "  </tbody>\n",
       "</table>\n",
       "<p>413 rows × 8 columns</p>\n",
       "</div>"
      ],
      "text/plain": [
       "     X1 transaction date  X2 house age  \\\n",
       "0                   2012          32.0   \n",
       "1                   2012          19.5   \n",
       "2                   2013          13.3   \n",
       "3                   2013          13.3   \n",
       "4                   2012           5.0   \n",
       "..                   ...           ...   \n",
       "409                 2013          13.7   \n",
       "410                 2012           5.6   \n",
       "411                 2013          18.8   \n",
       "412                 2013           8.1   \n",
       "413                 2013           6.5   \n",
       "\n",
       "     X3 distance to the nearest MRT station  X4 number of convenience stores  \\\n",
       "0                                  84.87882                               10   \n",
       "1                                 306.59470                                9   \n",
       "2                                 561.98450                                5   \n",
       "3                                 561.98450                                5   \n",
       "4                                 390.56840                                5   \n",
       "..                                      ...                              ...   \n",
       "409                              4082.01500                                0   \n",
       "410                                90.45606                                9   \n",
       "411                               390.96960                                7   \n",
       "412                               104.81010                                5   \n",
       "413                                90.45606                                9   \n",
       "\n",
       "     X5 latitude  X6 longitude  Y house price of unit area  House price $/M2  \n",
       "0       24.98298     121.54024                        37.9         11.484848  \n",
       "1       24.98034     121.53951                        42.2         12.787879  \n",
       "2       24.98746     121.54391                        47.3         14.333333  \n",
       "3       24.98746     121.54391                        54.8         16.606061  \n",
       "4       24.97937     121.54245                        43.1         13.060606  \n",
       "..           ...           ...                         ...               ...  \n",
       "409     24.94155     121.50381                        15.4          4.666667  \n",
       "410     24.97433     121.54310                        50.0         15.151515  \n",
       "411     24.97923     121.53986                        40.6         12.303030  \n",
       "412     24.96674     121.54067                        52.5         15.909091  \n",
       "413     24.97433     121.54310                        63.9         19.363636  \n",
       "\n",
       "[413 rows x 8 columns]"
      ]
     },
     "execution_count": 46,
     "metadata": {},
     "output_type": "execute_result"
    }
   ],
   "source": [
    "# Retain only Year information from the 'X1 transaction date' column\n",
    "df2.astype({'X1 transaction date' : 'int64'})"
   ]
  },
  {
   "cell_type": "code",
   "execution_count": 48,
   "metadata": {},
   "outputs": [
    {
     "data": {
      "text/plain": [
       "<AxesSubplot:>"
      ]
     },
     "execution_count": 48,
     "metadata": {},
     "output_type": "execute_result"
    },
    {
     "data": {
      "image/png": "[encoded data removed]",
      "text/plain": [
       "<Figure size 1440x1080 with 1 Axes>"
      ]
     },
     "metadata": {
      "needs_background": "light"
     },
     "output_type": "display_data"
    }
   ],
   "source": [
    "# Visualization of Outliers and data distribution using Boxplot\n",
    "plt.figure(figsize=(20,15))\n",
    "sns.boxplot(data=df2)"
   ]
  },
  {
   "cell_type": "code",
   "execution_count": 49,
   "metadata": {},
   "outputs": [
    {
     "data": {
      "text/plain": [
       "<AxesSubplot:xlabel='X2 house age', ylabel='House price $/M2'>"
      ]
     },
     "execution_count": 49,
     "metadata": {},
     "output_type": "execute_result"
    },
    {
     "data": {
      "image/png": "[encoded data removed]",
      "text/plain": [
       "<Figure size 432x288 with 1 Axes>"
      ]
     },
     "metadata": {
      "needs_background": "light"
     },
     "output_type": "display_data"
    }
   ],
   "source": [
    "# Visualizing the co-relation of other variables with price and also determining whether the relationship can be described\n",
    "# by Linear Regression using sns.regplot()\n",
    "sns.regplot(x = 'X2 house age', y = 'House price $/M2', data = df2)"
   ]
  },
  {
   "cell_type": "code",
   "execution_count": 50,
   "metadata": {},
   "outputs": [],
   "source": [
    "# This displays that the data point can be best described by using the Linear relationship between these two variables\n",
    "# but since the slope isn't steep enough the co-relation between them is weak"
   ]
  },
  {
   "cell_type": "code",
   "execution_count": 51,
   "metadata": {},
   "outputs": [
    {
     "data": {
      "text/plain": [
       "<AxesSubplot:xlabel='X3 distance to the nearest MRT station', ylabel='House price $/M2'>"
      ]
     },
     "execution_count": 51,
     "metadata": {},
     "output_type": "execute_result"
    },
    {
     "data": {
      "image/png": "[encoded data removed]",
      "text/plain": [
       "<Figure size 432x288 with 1 Axes>"
      ]
     },
     "metadata": {
      "needs_background": "light"
     },
     "output_type": "display_data"
    }
   ],
   "source": [
    "# Next, Regression plot between 'distance to the nearest MRT station' and 'price'\n",
    "sns.regplot(x = 'X3 distance to the nearest MRT station', y = 'House price $/M2', data = df2)"
   ]
  },
  {
   "cell_type": "code",
   "execution_count": 70,
   "metadata": {},
   "outputs": [],
   "source": [
    "# The relationship between these two variables can be modeled using Linear Regression as visualized from the plot\n",
    "# above and also the co-relation between these variable is high\n",
    "# Similarly, plotting the Regression Plot of 'Price' with other remaining variables"
   ]
  },
  {
   "cell_type": "code",
   "execution_count": 52,
   "metadata": {},
   "outputs": [
    {
     "data": {
      "text/plain": [
       "<AxesSubplot:xlabel='X4 number of convenience stores', ylabel='House price $/M2'>"
      ]
     },
     "execution_count": 52,
     "metadata": {},
     "output_type": "execute_result"
    },
    {
     "data": {
      "image/png": "[encoded data removed]",
      "text/plain": [
       "<Figure size 432x288 with 1 Axes>"
      ]
     },
     "metadata": {
      "needs_background": "light"
     },
     "output_type": "display_data"
    }
   ],
   "source": [
    "sns.regplot(x = 'X4 number of convenience stores', y = 'House price $/M2', data = df2)"
   ]
  },
  {
   "cell_type": "code",
   "execution_count": 53,
   "metadata": {},
   "outputs": [
    {
     "data": {
      "text/plain": [
       "<AxesSubplot:xlabel='X5 latitude', ylabel='House price $/M2'>"
      ]
     },
     "execution_count": 53,
     "metadata": {},
     "output_type": "execute_result"
    },
    {
     "data": {
      "image/png": "[encoded data removed]",
      "text/plain": [
       "<Figure size 432x288 with 1 Axes>"
      ]
     },
     "metadata": {
      "needs_background": "light"
     },
     "output_type": "display_data"
    }
   ],
   "source": [
    "sns.regplot(x = 'X5 latitude', y = 'House price $/M2', data = df2)"
   ]
  },
  {
   "cell_type": "code",
   "execution_count": 54,
   "metadata": {},
   "outputs": [
    {
     "data": {
      "text/plain": [
       "<AxesSubplot:xlabel='X6 longitude', ylabel='House price $/M2'>"
      ]
     },
     "execution_count": 54,
     "metadata": {},
     "output_type": "execute_result"
    },
    {
     "data": {
      "image/png": "[encoded data removed]",
      "text/plain": [
       "<Figure size 432x288 with 1 Axes>"
      ]
     },
     "metadata": {
      "needs_background": "light"
     },
     "output_type": "display_data"
    }
   ],
   "source": [
    "sns.regplot(x = 'X6 longitude', y = 'House price $/M2', data = df2)"
   ]
  },
  {
   "cell_type": "code",
   "execution_count": 55,
   "metadata": {},
   "outputs": [],
   "source": [
    "# Since, We can conclude from the above regression plots, the relationship between individual \n",
    "# independent variables and dependent variable can be  modeled using Linear Line, we would use Linear Regression\n",
    "# Model the describe the relationship between these variables and predict the value of 'Price'\n",
    "\n",
    "# defining the independent(predictor) variables as X parameter\n",
    "x = df2.drop(['X1 transaction date','X2 house age','Y house price of unit area', 'House price $/M2'], axis = 1)\n",
    "\n",
    "# defining the dependent variable as the Y parameter  \n",
    "y = df2['House price $/M2']            \n",
    "              \n",
    "# Import train_test_split from sklearn library so split our datasets into the group of training set and testing set\n",
    "# Training set is used to train and develop the model while testing set is used to test the accuracy of the obtained \n",
    "# model\n",
    "from sklearn.model_selection import train_test_split\n",
    "x_train,x_test,y_train,y_test=train_test_split(x,y,test_size=0.2,random_state=100)"
   ]
  },
  {
   "cell_type": "code",
   "execution_count": 56,
   "metadata": {},
   "outputs": [
    {
     "data": {
      "text/plain": [
       "(330, 4)"
      ]
     },
     "execution_count": 56,
     "metadata": {},
     "output_type": "execute_result"
    }
   ],
   "source": [
    "# Size of Train and Test sets\n",
    "x_train.shape"
   ]
  },
  {
   "cell_type": "code",
   "execution_count": 57,
   "metadata": {},
   "outputs": [
    {
     "data": {
      "text/plain": [
       "(83, 4)"
      ]
     },
     "execution_count": 57,
     "metadata": {},
     "output_type": "execute_result"
    }
   ],
   "source": [
    "x_test.shape"
   ]
  },
  {
   "cell_type": "code",
   "execution_count": 58,
   "metadata": {},
   "outputs": [],
   "source": [
    "# import StandardScaler from sklearn library\n",
    "# StandardScaler is used to standarize our data(z = x - m)/std\n",
    "from sklearn.preprocessing import StandardScaler"
   ]
  },
  {
   "cell_type": "code",
   "execution_count": 59,
   "metadata": {},
   "outputs": [],
   "source": [
    "# Create the object of StandardScaler class\n",
    "sc = StandardScaler()"
   ]
  },
  {
   "cell_type": "code",
   "execution_count": 60,
   "metadata": {},
   "outputs": [
    {
     "data": {
      "text/html": [
       "<div>\n",
       "<style scoped>\n",
       "    .dataframe tbody tr th:only-of-type {\n",
       "        vertical-align: middle;\n",
       "    }\n",
       "\n",
       "    .dataframe tbody tr th {\n",
       "        vertical-align: top;\n",
       "    }\n",
       "\n",
       "    .dataframe thead th {\n",
       "        text-align: right;\n",
       "    }\n",
       "</style>\n",
       "<table border=\"1\" class=\"dataframe\">\n",
       "  <thead>\n",
       "    <tr style=\"text-align: right;\">\n",
       "      <th></th>\n",
       "      <th>X3 distance to the nearest MRT station</th>\n",
       "      <th>X4 number of convenience stores</th>\n",
       "      <th>X5 latitude</th>\n",
       "      <th>X6 longitude</th>\n",
       "    </tr>\n",
       "  </thead>\n",
       "  <tbody>\n",
       "    <tr>\n",
       "      <th>272</th>\n",
       "      <td>492.23130</td>\n",
       "      <td>5</td>\n",
       "      <td>24.96515</td>\n",
       "      <td>121.53737</td>\n",
       "    </tr>\n",
       "    <tr>\n",
       "      <th>390</th>\n",
       "      <td>377.83020</td>\n",
       "      <td>9</td>\n",
       "      <td>24.97151</td>\n",
       "      <td>121.54350</td>\n",
       "    </tr>\n",
       "    <tr>\n",
       "      <th>69</th>\n",
       "      <td>561.98450</td>\n",
       "      <td>5</td>\n",
       "      <td>24.98746</td>\n",
       "      <td>121.54391</td>\n",
       "    </tr>\n",
       "    <tr>\n",
       "      <th>325</th>\n",
       "      <td>488.81930</td>\n",
       "      <td>8</td>\n",
       "      <td>24.97015</td>\n",
       "      <td>121.54494</td>\n",
       "    </tr>\n",
       "    <tr>\n",
       "      <th>199</th>\n",
       "      <td>451.64190</td>\n",
       "      <td>8</td>\n",
       "      <td>24.96945</td>\n",
       "      <td>121.54490</td>\n",
       "    </tr>\n",
       "    <tr>\n",
       "      <th>...</th>\n",
       "      <td>...</td>\n",
       "      <td>...</td>\n",
       "      <td>...</td>\n",
       "      <td>...</td>\n",
       "    </tr>\n",
       "    <tr>\n",
       "      <th>344</th>\n",
       "      <td>3085.17000</td>\n",
       "      <td>0</td>\n",
       "      <td>24.99800</td>\n",
       "      <td>121.51550</td>\n",
       "    </tr>\n",
       "    <tr>\n",
       "      <th>360</th>\n",
       "      <td>87.30222</td>\n",
       "      <td>10</td>\n",
       "      <td>24.98300</td>\n",
       "      <td>121.54022</td>\n",
       "    </tr>\n",
       "    <tr>\n",
       "      <th>324</th>\n",
       "      <td>1712.63200</td>\n",
       "      <td>2</td>\n",
       "      <td>24.96412</td>\n",
       "      <td>121.51670</td>\n",
       "    </tr>\n",
       "    <tr>\n",
       "      <th>281</th>\n",
       "      <td>387.77210</td>\n",
       "      <td>9</td>\n",
       "      <td>24.98118</td>\n",
       "      <td>121.53788</td>\n",
       "    </tr>\n",
       "    <tr>\n",
       "      <th>8</th>\n",
       "      <td>5512.03800</td>\n",
       "      <td>1</td>\n",
       "      <td>24.95095</td>\n",
       "      <td>121.48458</td>\n",
       "    </tr>\n",
       "  </tbody>\n",
       "</table>\n",
       "<p>330 rows × 4 columns</p>\n",
       "</div>"
      ],
      "text/plain": [
       "     X3 distance to the nearest MRT station  X4 number of convenience stores  \\\n",
       "272                               492.23130                                5   \n",
       "390                               377.83020                                9   \n",
       "69                                561.98450                                5   \n",
       "325                               488.81930                                8   \n",
       "199                               451.64190                                8   \n",
       "..                                      ...                              ...   \n",
       "344                              3085.17000                                0   \n",
       "360                                87.30222                               10   \n",
       "324                              1712.63200                                2   \n",
       "281                               387.77210                                9   \n",
       "8                                5512.03800                                1   \n",
       "\n",
       "     X5 latitude  X6 longitude  \n",
       "272     24.96515     121.53737  \n",
       "390     24.97151     121.54350  \n",
       "69      24.98746     121.54391  \n",
       "325     24.97015     121.54494  \n",
       "199     24.96945     121.54490  \n",
       "..           ...           ...  \n",
       "344     24.99800     121.51550  \n",
       "360     24.98300     121.54022  \n",
       "324     24.96412     121.51670  \n",
       "281     24.98118     121.53788  \n",
       "8       24.95095     121.48458  \n",
       "\n",
       "[330 rows x 4 columns]"
      ]
     },
     "execution_count": 60,
     "metadata": {},
     "output_type": "execute_result"
    }
   ],
   "source": [
    "x_train"
   ]
  },
  {
   "cell_type": "code",
   "execution_count": 61,
   "metadata": {},
   "outputs": [
    {
     "data": {
      "text/html": [
       "<div>\n",
       "<style scoped>\n",
       "    .dataframe tbody tr th:only-of-type {\n",
       "        vertical-align: middle;\n",
       "    }\n",
       "\n",
       "    .dataframe tbody tr th {\n",
       "        vertical-align: top;\n",
       "    }\n",
       "\n",
       "    .dataframe thead th {\n",
       "        text-align: right;\n",
       "    }\n",
       "</style>\n",
       "<table border=\"1\" class=\"dataframe\">\n",
       "  <thead>\n",
       "    <tr style=\"text-align: right;\">\n",
       "      <th></th>\n",
       "      <th>X3 distance to the nearest MRT station</th>\n",
       "      <th>X4 number of convenience stores</th>\n",
       "      <th>X5 latitude</th>\n",
       "      <th>X6 longitude</th>\n",
       "    </tr>\n",
       "  </thead>\n",
       "  <tbody>\n",
       "    <tr>\n",
       "      <th>121</th>\n",
       "      <td>492.23130</td>\n",
       "      <td>5</td>\n",
       "      <td>24.96515</td>\n",
       "      <td>121.53737</td>\n",
       "    </tr>\n",
       "    <tr>\n",
       "      <th>353</th>\n",
       "      <td>2147.37600</td>\n",
       "      <td>3</td>\n",
       "      <td>24.96299</td>\n",
       "      <td>121.51284</td>\n",
       "    </tr>\n",
       "    <tr>\n",
       "      <th>96</th>\n",
       "      <td>90.45606</td>\n",
       "      <td>9</td>\n",
       "      <td>24.97433</td>\n",
       "      <td>121.54310</td>\n",
       "    </tr>\n",
       "    <tr>\n",
       "      <th>43</th>\n",
       "      <td>512.78710</td>\n",
       "      <td>6</td>\n",
       "      <td>24.98748</td>\n",
       "      <td>121.54301</td>\n",
       "    </tr>\n",
       "    <tr>\n",
       "      <th>125</th>\n",
       "      <td>193.58450</td>\n",
       "      <td>6</td>\n",
       "      <td>24.96571</td>\n",
       "      <td>121.54089</td>\n",
       "    </tr>\n",
       "    <tr>\n",
       "      <th>...</th>\n",
       "      <td>...</td>\n",
       "      <td>...</td>\n",
       "      <td>...</td>\n",
       "      <td>...</td>\n",
       "    </tr>\n",
       "    <tr>\n",
       "      <th>157</th>\n",
       "      <td>815.93140</td>\n",
       "      <td>4</td>\n",
       "      <td>24.97886</td>\n",
       "      <td>121.53464</td>\n",
       "    </tr>\n",
       "    <tr>\n",
       "      <th>184</th>\n",
       "      <td>2615.46500</td>\n",
       "      <td>0</td>\n",
       "      <td>24.95495</td>\n",
       "      <td>121.56174</td>\n",
       "    </tr>\n",
       "    <tr>\n",
       "      <th>129</th>\n",
       "      <td>216.83290</td>\n",
       "      <td>7</td>\n",
       "      <td>24.98086</td>\n",
       "      <td>121.54162</td>\n",
       "    </tr>\n",
       "    <tr>\n",
       "      <th>357</th>\n",
       "      <td>338.96790</td>\n",
       "      <td>9</td>\n",
       "      <td>24.96853</td>\n",
       "      <td>121.54413</td>\n",
       "    </tr>\n",
       "    <tr>\n",
       "      <th>399</th>\n",
       "      <td>170.12890</td>\n",
       "      <td>1</td>\n",
       "      <td>24.97371</td>\n",
       "      <td>121.52984</td>\n",
       "    </tr>\n",
       "  </tbody>\n",
       "</table>\n",
       "<p>83 rows × 4 columns</p>\n",
       "</div>"
      ],
      "text/plain": [
       "     X3 distance to the nearest MRT station  X4 number of convenience stores  \\\n",
       "121                               492.23130                                5   \n",
       "353                              2147.37600                                3   \n",
       "96                                 90.45606                                9   \n",
       "43                                512.78710                                6   \n",
       "125                               193.58450                                6   \n",
       "..                                      ...                              ...   \n",
       "157                               815.93140                                4   \n",
       "184                              2615.46500                                0   \n",
       "129                               216.83290                                7   \n",
       "357                               338.96790                                9   \n",
       "399                               170.12890                                1   \n",
       "\n",
       "     X5 latitude  X6 longitude  \n",
       "121     24.96515     121.53737  \n",
       "353     24.96299     121.51284  \n",
       "96      24.97433     121.54310  \n",
       "43      24.98748     121.54301  \n",
       "125     24.96571     121.54089  \n",
       "..           ...           ...  \n",
       "157     24.97886     121.53464  \n",
       "184     24.95495     121.56174  \n",
       "129     24.98086     121.54162  \n",
       "357     24.96853     121.54413  \n",
       "399     24.97371     121.52984  \n",
       "\n",
       "[83 rows x 4 columns]"
      ]
     },
     "execution_count": 61,
     "metadata": {},
     "output_type": "execute_result"
    }
   ],
   "source": [
    "x_test"
   ]
  },
  {
   "cell_type": "code",
   "execution_count": 62,
   "metadata": {},
   "outputs": [],
   "source": [
    "# use fit_transform() to scale down our data into standarized form \n",
    "x_train2 = sc.fit_transform(x_train) \n",
    "x_test2 = sc.transform(x_test)"
   ]
  },
  {
   "cell_type": "code",
   "execution_count": 63,
   "metadata": {},
   "outputs": [
    {
     "data": {
      "text/plain": [
       "array([[-0.50752801,  0.36066872, -0.27336757,  0.33002815],\n",
       "       [-0.59207418,  1.69050871,  0.21831454,  0.71244838],\n",
       "       [-0.45597811,  0.36066872,  1.45138526,  0.73802624],\n",
       "       ...,\n",
       "       [ 0.39438816, -0.63671127, -0.35299534, -0.95947041],\n",
       "       [-0.58472679,  1.69050871,  0.96588782,  0.36184451],\n",
       "       [ 3.20227389, -0.96917126, -1.3711484 , -2.96327755]])"
      ]
     },
     "execution_count": 63,
     "metadata": {},
     "output_type": "execute_result"
    }
   ],
   "source": [
    "x_train2"
   ]
  },
  {
   "cell_type": "code",
   "execution_count": 64,
   "metadata": {},
   "outputs": [
    {
     "data": {
      "text/plain": [
       "array([[-0.50752801,  0.36066872, -0.27336757,  0.33002815],\n",
       "       [ 0.71567824, -0.30425127, -0.44035395, -1.20027662],\n",
       "       [-0.8044531 ,  1.69050871,  0.43632454,  0.68749437],\n",
       "       [-0.4923366 ,  0.69312872,  1.45293143,  0.68187971],\n",
       "       [-0.7282378 ,  0.69312872, -0.23007481,  0.54962345],\n",
       "       [ 0.17430788, -0.96917126, -1.30389   ,  1.04745599],\n",
       "       [ 0.76684592,  0.02820873, -0.6660948 , -1.15224015],\n",
       "       [-0.7282378 ,  0.69312872, -0.23007481,  0.54962345],\n",
       "       [-0.72561475,  0.69312872,  0.58939539,  0.7660995 ],\n",
       "       [ 0.57914341, -0.96917126, -1.08278766,  1.41802306],\n",
       "       [-0.57430007,  0.02820873,  1.12668952,  0.78107191],\n",
       "       [-0.65748258,  0.36066872,  1.03160006,  0.71120068],\n",
       "       [-0.25219809, -1.30163126, -0.41329597,  0.97259395],\n",
       "       [-0.65476811,  0.69312872,  0.676754  ,  0.77982421],\n",
       "       [-0.66498539,  1.02558872,  0.50976762,  0.83160378],\n",
       "       [-0.59502388,  2.0229687 ,  1.12359718,  0.34749596],\n",
       "       [-0.77334659,  1.69050871,  1.10504314,  0.48224762],\n",
       "       [-0.59693753,  1.35804871,  0.29794231,  0.53090794],\n",
       "       [-0.73507703,  0.69312872, -0.22234396,  0.5477519 ],\n",
       "       [-0.19240117, -0.96917126,  0.25464954,  1.15725364],\n",
       "       [ 0.22623232,  0.02820873,  0.15801391, -0.9407549 ],\n",
       "       [-0.73085789,  1.35804871,  0.64814985,  0.68874207],\n",
       "       [ 0.2045794 , -0.96917126, -1.35182127,  1.05556604],\n",
       "       [-0.71729568,  0.69312872, -0.9668249 ,  0.39678013],\n",
       "       [ 0.74357821, -0.30425127, -0.42257299, -1.22959759],\n",
       "       [-0.46303395, -0.63671127,  0.56388358,  0.10793744],\n",
       "       [-0.59592159,  0.69312872,  0.749424  ,  0.56833896],\n",
       "       [-0.73312717,  0.69312872, -0.204563  ,  0.62573319],\n",
       "       [ 0.46009704, -0.96917126, -1.32630946,  1.27640904],\n",
       "       [-0.66978489,  0.36066872, -1.01011766,  0.41424794],\n",
       "       [-0.68607856,  1.02558872, -0.20301683,  0.67938431],\n",
       "       [ 0.44652544, -0.30425127, -0.10638119, -1.07425886],\n",
       "       [-0.73868085,  1.35804871,  0.37138539,  0.6469441 ],\n",
       "       [-0.65748258,  0.36066872,  1.03160006,  0.71120068],\n",
       "       [-0.6754144 ,  1.35804871,  0.9202758 ,  0.48536687],\n",
       "       [-0.59923829,  1.35804871, -0.09169258,  0.77545726],\n",
       "       [ 0.20008904, -0.30425127,  0.32500029, -0.92328709],\n",
       "       [-0.53053388,  0.36066872, -1.11603032,  0.48786227],\n",
       "       [-0.51452902,  0.36066872,  0.43632454,  0.40863329],\n",
       "       [-0.83460195,  1.35804871, -0.79829235,  0.3418813 ],\n",
       "       [-0.65875541,  0.69312872,  0.90713336,  0.63633864],\n",
       "       [-0.51452902,  0.36066872,  0.43632454,  0.40863329],\n",
       "       [ 0.79295299,  0.02820873, -0.70474905, -1.15723095],\n",
       "       [ 0.13388426, -0.96917126, -1.28688212,  1.01938272],\n",
       "       [-0.47385339,  0.02820873,  0.43013986,  0.37806462],\n",
       "       [-0.65748258,  0.36066872,  1.03160006,  0.71120068],\n",
       "       [-0.62333741,  0.69312872,  0.84374038,  0.58143982],\n",
       "       [ 0.73664312, -0.30425127, -0.41638831, -1.22585449],\n",
       "       [-0.41563505,  1.35804871,  0.8321441 ,  0.27076237],\n",
       "       [-0.793845  ,  0.36066872, -0.15044704,  0.53589875],\n",
       "       [-0.45930856,  0.02820873,  0.42550135,  0.36745917],\n",
       "       [-0.65476811,  0.69312872,  0.676754  ,  0.77982421],\n",
       "       [ 0.66395629, -0.30425127, -0.39551502, -1.17220336],\n",
       "       [-0.01667668, -1.30163126, -1.52963084, -0.07048374],\n",
       "       [-0.65476811,  0.69312872,  0.676754  ,  0.77982421],\n",
       "       [-0.63211143,  0.69312872,  0.75174325,  0.66940271],\n",
       "       [-0.793845  ,  0.36066872, -0.15044704,  0.53589875],\n",
       "       [ 0.13388426, -0.96917126, -1.28688212,  1.01938272],\n",
       "       [-0.64471955,  1.69050871,  0.90094868,  0.46353211],\n",
       "       [-0.8044531 ,  1.69050871,  0.43632454,  0.68749437],\n",
       "       [-0.31697646, -0.63671127,  0.38839326,  1.08738241],\n",
       "       [-0.58761619,  0.36066872,  0.94037602,  0.73802624],\n",
       "       [-0.66498539,  1.02558872,  0.50976762,  0.83160378],\n",
       "       [-0.4149929 , -0.30425127,  0.67830017,  0.05678172],\n",
       "       [-0.02552734,  0.02820873,  1.78381185,  0.15472622],\n",
       "       [-0.74150721,  1.35804871,  0.36983922,  0.66316421],\n",
       "       [-0.66498539,  1.02558872,  0.50976762,  0.83160378],\n",
       "       [-0.65748258,  0.36066872,  1.03160006,  0.71120068],\n",
       "       [ 0.71567824, -0.30425127, -0.44035395, -1.20027662],\n",
       "       [-0.55201247,  1.02558872,  0.91331804,  0.35560601],\n",
       "       [-0.12544531, -1.30163126, -0.39551502,  1.08738241],\n",
       "       [-0.26830302,  0.02820873,  0.78653208,  0.15971702],\n",
       "       [-0.65748258,  0.36066872,  1.03160006,  0.71120068],\n",
       "       [-0.793845  ,  0.36066872, -0.15044704,  0.53589875],\n",
       "       [-0.7282378 ,  0.69312872, -0.23007481,  0.54962345],\n",
       "       [-0.13540718, -1.30163126, -0.43571544,  1.06492379],\n",
       "       [-0.59330046,  0.69312872, -1.12144191,  0.31505574],\n",
       "       [ 0.73611545, -0.30425127, -0.43571544, -1.21899213],\n",
       "       [-0.26830302,  0.02820873,  0.78653208,  0.15971702],\n",
       "       [ 1.06161137, -1.30163126, -1.06191436,  1.85035132],\n",
       "       [-0.71105647,  1.02558872,  0.9411491 ,  0.59516452],\n",
       "       [-0.6207947 ,  1.69050871, -0.01206481,  0.75175095],\n",
       "       [-0.74557226, -0.96917126,  0.38839326, -0.13973112]])"
      ]
     },
     "execution_count": 64,
     "metadata": {},
     "output_type": "execute_result"
    }
   ],
   "source": [
    "x_test2\n"
   ]
  },
  {
   "cell_type": "code",
   "execution_count": 65,
   "metadata": {},
   "outputs": [],
   "source": [
    "# import LinearRegression and metrics library from sklearn\n",
    "from sklearn.linear_model import LinearRegression\n",
    "from sklearn import metrics"
   ]
  },
  {
   "cell_type": "code",
   "execution_count": 66,
   "metadata": {},
   "outputs": [],
   "source": [
    "#Use fit() method of LinearRegression object to fit the model and calculate the values of intercept and coefficients\n",
    "#use predict() method of LinearRegression object used to predict the 'price' from the given series of independent test\n",
    "# values\n",
    "\n",
    "method=LinearRegression()\n",
    "method.fit(x_train2,y_train)\n",
    "predict = method.predict(x_test2)"
   ]
  },
  {
   "cell_type": "code",
   "execution_count": 67,
   "metadata": {},
   "outputs": [
    {
     "data": {
      "text/plain": [
       "11.250229568411177"
      ]
     },
     "execution_count": 67,
     "metadata": {},
     "output_type": "execute_result"
    }
   ],
   "source": [
    "# The value of intercept is given by\n",
    "method.intercept_"
   ]
  },
  {
   "cell_type": "code",
   "execution_count": 68,
   "metadata": {},
   "outputs": [
    {
     "data": {
      "text/plain": [
       "array([-1.56311403,  0.99803343,  0.83588195,  0.17363498])"
      ]
     },
     "execution_count": 68,
     "metadata": {},
     "output_type": "execute_result"
    }
   ],
   "source": [
    "# The list of coefficeient values(slopes) is given by\n",
    "method.coef_"
   ]
  },
  {
   "cell_type": "code",
   "execution_count": 69,
   "metadata": {},
   "outputs": [
    {
     "name": "stdout",
     "output_type": "stream",
     "text": [
      "R2 Score = 0.546119\n",
      "Mean Absoulute Error = 1.869370\n",
      "Mean Squared Error = 5.694698\n",
      "Root Mean Squared Error = 2.386357\n"
     ]
    }
   ],
   "source": [
    "# The methods of metrics library is used to calculated the R^2 score, MSE, MAE, RMSE which gives value\n",
    "# that denotes the accuracy of the predicted model\n",
    "\n",
    "print('R2 Score = {:f}'.format(metrics.r2_score(y_test, predict)))\n",
    "print('Mean Absoulute Error = {:f}'.format(metrics.mean_absolute_error(y_test, predict)))\n",
    "print('Mean Squared Error = {:f}'.format(metrics.mean_squared_error(y_test, predict)))\n",
    "print('Root Mean Squared Error = {:f}'.format(np.sqrt(metrics.mean_squared_error(y_test, predict))))"
   ]
  },
  {
   "cell_type": "code",
   "execution_count": 70,
   "metadata": {},
   "outputs": [],
   "source": [
    "# calculate the difference between predicted value and actual value from the test set\n",
    "difference = predict - y_test"
   ]
  },
  {
   "cell_type": "code",
   "execution_count": 71,
   "metadata": {},
   "outputs": [],
   "source": [
    "# Creating the Pandas DataFrame which stores actual value, predicted value and difference beteen them in\n",
    "# tablular fomat\n",
    "diffTable = pd.DataFrame({'Actual-Value': y_test, 'Predicted-Value':predict, 'Difference':difference})"
   ]
  },
  {
   "cell_type": "code",
   "execution_count": 72,
   "metadata": {},
   "outputs": [
    {
     "data": {
      "text/html": [
       "<div>\n",
       "<style scoped>\n",
       "    .dataframe tbody tr th:only-of-type {\n",
       "        vertical-align: middle;\n",
       "    }\n",
       "\n",
       "    .dataframe tbody tr th {\n",
       "        vertical-align: top;\n",
       "    }\n",
       "\n",
       "    .dataframe thead th {\n",
       "        text-align: right;\n",
       "    }\n",
       "</style>\n",
       "<table border=\"1\" class=\"dataframe\">\n",
       "  <thead>\n",
       "    <tr style=\"text-align: right;\">\n",
       "      <th></th>\n",
       "      <th>Actual-Value</th>\n",
       "      <th>Predicted-Value</th>\n",
       "      <th>Difference</th>\n",
       "    </tr>\n",
       "  </thead>\n",
       "  <tbody>\n",
       "    <tr>\n",
       "      <th>121</th>\n",
       "      <td>14.545455</td>\n",
       "      <td>12.232315</td>\n",
       "      <td>-2.313140</td>\n",
       "    </tr>\n",
       "    <tr>\n",
       "      <th>353</th>\n",
       "      <td>9.484848</td>\n",
       "      <td>9.251396</td>\n",
       "      <td>-0.233452</td>\n",
       "    </tr>\n",
       "    <tr>\n",
       "      <th>96</th>\n",
       "      <td>18.030303</td>\n",
       "      <td>14.678955</td>\n",
       "      <td>-3.351348</td>\n",
       "    </tr>\n",
       "    <tr>\n",
       "      <th>43</th>\n",
       "      <td>10.333333</td>\n",
       "      <td>14.044451</td>\n",
       "      <td>3.711117</td>\n",
       "    </tr>\n",
       "    <tr>\n",
       "      <th>125</th>\n",
       "      <td>14.727273</td>\n",
       "      <td>12.983432</td>\n",
       "      <td>-1.743840</td>\n",
       "    </tr>\n",
       "  </tbody>\n",
       "</table>\n",
       "</div>"
      ],
      "text/plain": [
       "     Actual-Value  Predicted-Value  Difference\n",
       "121     14.545455        12.232315   -2.313140\n",
       "353      9.484848         9.251396   -0.233452\n",
       "96      18.030303        14.678955   -3.351348\n",
       "43      10.333333        14.044451    3.711117\n",
       "125     14.727273        12.983432   -1.743840"
      ]
     },
     "execution_count": 72,
     "metadata": {},
     "output_type": "execute_result"
    }
   ],
   "source": [
    "# Displaying the Top 5 result\n",
    "diffTable.head()"
   ]
  },
  {
   "cell_type": "code",
   "execution_count": null,
   "metadata": {},
   "outputs": [],
   "source": []
  }
 ],
 "metadata": {
  "kernelspec": {
   "display_name": "Python 3",
   "language": "python",
   "name": "python3"
  },
  "language_info": {
   "codemirror_mode": {
    "name": "ipython",
    "version": 3
   },
   "file_extension": ".py",
   "mimetype": "text/x-python",
   "name": "python",
   "nbconvert_exporter": "python",
   "pygments_lexer": "ipython3",
   "version": "3.8.5"
  }
 },
 "nbformat": 4,
 "nbformat_minor": 4
}
